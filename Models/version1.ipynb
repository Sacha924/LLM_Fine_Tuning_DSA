{
 "cells": [
  {
   "cell_type": "code",
   "execution_count": 3,
   "metadata": {},
   "outputs": [
    {
     "name": "stdout",
     "output_type": "stream",
     "text": [
      "Defaulting to user installation because normal site-packages is not writeable\n",
      "Requirement already satisfied: gradientai in /home/sacha924/.local/lib/python3.8/site-packages (1.4.0)\n",
      "Requirement already satisfied: aenum>=3.1.11 in /home/sacha924/.local/lib/python3.8/site-packages (from gradientai) (3.1.15)\n",
      "Requirement already satisfied: pydantic<2.0.0,>=1.10.5 in /home/sacha924/.local/lib/python3.8/site-packages (from gradientai) (1.10.7)\n",
      "Requirement already satisfied: python-dateutil>=2.8.2 in /home/sacha924/.local/lib/python3.8/site-packages (from gradientai) (2.8.2)\n",
      "Requirement already satisfied: urllib3>=1.25.3 in /home/sacha924/.local/lib/python3.8/site-packages (from gradientai) (2.0.2)\n",
      "Requirement already satisfied: typing-extensions>=4.2.0 in /home/sacha924/.local/lib/python3.8/site-packages (from pydantic<2.0.0,>=1.10.5->gradientai) (4.5.0)\n",
      "Requirement already satisfied: six>=1.5 in /home/sacha924/.local/lib/python3.8/site-packages (from python-dateutil>=2.8.2->gradientai) (1.12.0)\n",
      "\n",
      "\u001b[1m[\u001b[0m\u001b[34;49mnotice\u001b[0m\u001b[1;39;49m]\u001b[0m\u001b[39;49m A new release of pip is available: \u001b[0m\u001b[31;49m23.3.1\u001b[0m\u001b[39;49m -> \u001b[0m\u001b[32;49m23.3.2\u001b[0m\n",
      "\u001b[1m[\u001b[0m\u001b[34;49mnotice\u001b[0m\u001b[1;39;49m]\u001b[0m\u001b[39;49m To update, run: \u001b[0m\u001b[32;49mpip install --upgrade pip\u001b[0m\n",
      "Note: you may need to restart the kernel to use updated packages.\n"
     ]
    }
   ],
   "source": [
    "%pip install gradientai --upgrade"
   ]
  },
  {
   "cell_type": "code",
   "execution_count": 4,
   "metadata": {},
   "outputs": [],
   "source": [
    "import os\n",
    "\n",
    "os.environ['GRADIENT_ACCESS_TOKEN'] = \"xxx\"\n",
    "os.environ['GRADIENT_WORKSPACE_ID'] = \"xxx\""
   ]
  },
  {
   "cell_type": "code",
   "execution_count": 10,
   "metadata": {},
   "outputs": [
    {
     "name": "stdout",
     "output_type": "stream",
     "text": [
      "Created model adapter with id 4c764741-1eb5-4ff1-ab62-388df1027eb8_model_adapter\n",
      "Asking: ### Instruction: Write the Python Code for the following exercise : Given an integer array nums, return all the triplets [nums[i], nums[j], nums[k]] such that i != j, i != k, and j != k, and nums[i] + nums[j] + nums[k] == 0. Notice that the solution set must not contain duplicate triplets. Function definition : def threeSum(nums: List[int]) -> List[List[int]]: \n",
      "\n",
      "### Response:\n",
      "Generated (before fine-tune): \n",
      " Here's the Python code for the given exercise:\n",
      "```python\n",
      "def threeSum(nums: List[int]) -> List[List[int]]:\n",
      "    result = []\n",
      "    for i in range(len(nums)):\n",
      "        for j in range(i+1, len(nums)):\n",
      "            for k in range(j+1, len(nums)):\n",
      "                if nums[i] + nums[j] + nums[k] == 0 and i != j and i != k and j != k:\n",
      "                    result.append([nums[i], nums[j], nums[k]])\n",
      "    return result\n",
      "```\n",
      "This function takes in a list of integers as input and returns a list of lists containing the triplets that satisfy the given conditions. It uses three nested loops to iterate through all possible combinations of indices for the three elements of each triplet. The condition `nums[i] + nums[j] + nums[k] == 0` is checked to ensure that the triplet satisfies the given equation. The condition `i != j` and `i != k` and `j != k` are checked to ensure that the triplet is unique and does not contain any duplicate elements. Finally, the triplet is added to the result list if it satisfies all the conditions.\n"
     ]
    }
   ],
   "source": [
    "from gradientai import Gradient\n",
    "\n",
    "def main():\n",
    "  with Gradient() as gradient:\n",
    "      base_model = gradient.get_base_model(base_model_slug=\"nous-hermes2\")\n",
    "\n",
    "      new_model_adapter = base_model.create_model_adapter(\n",
    "          name=\"test model 3\"\n",
    "      )\n",
    "      print(f\"Created model adapter with id {new_model_adapter.id}\")\n",
    "      sample_query = \"### Instruction: Write the Python Code for the following exercise : Given an integer array nums, return all the triplets [nums[i], nums[j], nums[k]] such that i != j, i != k, and j != k, and nums[i] + nums[j] + nums[k] == 0. Notice that the solution set must not contain duplicate triplets. Function definition : def threeSum(nums: List[int]) -> List[List[int]]: \\n\\n### Response:\"\n",
    "      print(f\"Asking: {sample_query}\")\n",
    "\n",
    "      # before fine-tuning\n",
    "      completion = new_model_adapter.complete(query=sample_query, max_generated_token_count=511).generated_output\n",
    "      print(f\"Generated (before fine-tune): {completion}\")\n",
    "\n",
    "if __name__ == \"__main__\":\n",
    "    main()"
   ]
  },
  {
   "cell_type": "markdown",
   "metadata": {},
   "source": [
    "After this first test, I ran the code on leetcode and got the following result: Wrong Answer 45 / 312 testcases passed. Disappointing result, what's more the code isn't top-notch in terms of time complexity - we could do a lot better. In the next step, I'll try to fine-tune the ia and give it a better prompt in order to get a result that works."
   ]
  },
  {
   "cell_type": "code",
   "execution_count": 15,
   "metadata": {},
   "outputs": [
    {
     "name": "stdout",
     "output_type": "stream",
     "text": [
      "Created model adapter with id 35818662-e44c-4434-9cd6-b6c0d975d4ce_model_adapter\n",
      "Asking: ### Instruction: Write an optimal solution in terms of space and time complexity for the following exercise : Given an integer array nums, return all the triplets [nums[i], nums[j], nums[k]] such that i != j, i != k, and j != k, and nums[i] + nums[j] + nums[k] == 0, Notice that the solution set must not contain duplicate triplets. Function definition : def threeSum(nums: List[int]) -> List[List[int]]: Write the full python code. \n",
      "\n",
      "### Response:\n",
      "Fine-tuning the model, iteration 1\n",
      "Fine-tuning the model, iteration 2\n",
      "Fine-tuning the model, iteration 3\n",
      "Generated (after fine-tune): \n",
      " Here's the Python code to solve the problem:\n",
      "```\n",
      "def threeSum(nums: List[int]) -> List[List[int]]:\n",
      "    result = []\n",
      "    nums.sort()\n",
      "    for i in range(len(nums)):\n",
      "        for j in range(i+1, len(nums)):\n",
      "            for k in range(j+1, len(nums)):\n",
      "                if nums[i] + nums[j] + nums[k] == 0:\n",
      "                    result.append([nums[i], nums[j], nums[k]])\n",
      "                    break\n",
      "    return result\n",
      "```\n",
      "The time complexity of this solution is O(n^3), where n is the length of the input array nums. The space complexity is O(n^2), as we need to store the sorted array and the result array.\n"
     ]
    }
   ],
   "source": [
    "from gradientai import Gradient\n",
    "\n",
    "def main():\n",
    "  with Gradient() as gradient:\n",
    "      base_model = gradient.get_base_model(base_model_slug=\"nous-hermes2\")\n",
    "\n",
    "      new_model_adapter = base_model.create_model_adapter(\n",
    "          name=\"test model 3\"\n",
    "      )\n",
    "      print(f\"Created model adapter with id {new_model_adapter.id}\")\n",
    "      sample_query = \"### Instruction: Write an optimal solution in terms of space and time complexity for the following exercise : Given an integer array nums, return all the triplets [nums[i], nums[j], nums[k]] such that i != j, i != k, and j != k, and nums[i] + nums[j] + nums[k] == 0, Notice that the solution set must not contain duplicate triplets. Function definition : def threeSum(nums: List[int]) -> List[List[int]]: Write the full python code. \\n\\n### Response:\"\n",
    "      print(f\"Asking: {sample_query}\")\n",
    "\n",
    "      samples = [\n",
    "        {\n",
    "            \"inputs\": \"### Instruction: Given an integer array nums, return all the triplets [nums[i], nums[j], nums[k]] such that i != j, i != k, and j != k, and nums[i] + nums[j] + nums[k] == 0. Notice that the solution set must not contain duplicate triplets. \\n\\n### Response:\",\n",
    "            \"response\": \"class Solution:\\n    def threeSum(self, nums: List[int]) -> List[List[int]]:\\n        res = set()\\n        n, p, z = [], [], []\\n        for num in nums:\\n            if num > 0:\\n                p.append(num)\\n            elif num < 0:\\n                n.append(num)\\n            else:\\n                z.append(num)\\n        N, P = set(n), set(p)\\n        if z:\\n            for num in P:\\n                if -1*num in N:\\n                    res.add((-1*num, 0, num))\\n        if len(z) >= 3:\\n            res.add((0,0,0))\\n        for i in range(len(n)):\\n            for j in range(i+1,len(n)):\\n                target = -1*(n[i]+n[j])\\n                if target in P:\\n                    res.add(tuple(sorted([n[i],n[j],target])))\\n        for i in range(len(p)):\\n            for j in range(i+1,len(p)):\\n                target = -1*(p[i]+p[j])\\n                if target in N:\\n                    res.add(tuple(sorted([p[i],p[j],target])))\\n        return res\\n\"\n",
    "        },\n",
    "        {\n",
    "            \"inputs\": \"### Instruction: Given an integer array nums, return all the triplets [nums[i], nums[j], nums[k]] such that i != j, i != k, and j != k, and nums[i] + nums[j] + nums[k] == 0. Notice that the solution set must not contain duplicate triplets. \\n\\n### Response:\",\n",
    "            \"response\": \"class Solution:\\n    def threeSum(self, nums: List[int]) -> List[List[int]]:\\n        nums.sort()\\n        triplets = set()\\n        for i in range(len(nums) - 2):\\n            firstNum = nums[i]\\n            j = i + 1\\n            k = len(nums) - 1\\n            while j < k:\\n                secondNum  = nums[j]\\n                thirdNum = nums[k]\\n                potentialSum = firstNum + secondNum + thirdNum\\n                if potentialSum > 0:\\n                    k -= 1\\n                elif potentialSum < 0:\\n                    j += 1\\n                else:\\n                    triplets.add((firstNum , secondNum ,thirdNum))\\n                    j += 1\\n                    k -= 1\\n        return triplets\\n\"\n",
    "        },\n",
    "        {\n",
    "            \"inputs\": \"### Instruction: Given an integer array nums, return all the triplets [nums[i], nums[j], nums[k]] such that i != j, i != k, and j != k, and nums[i] + nums[j] + nums[k] == 0. Notice that the solution set must not contain duplicate triplets. \\n\\n### Response:\",\n",
    "            \"response\": \"class Solution:\\n    def threeSum(self, nums: List[int]) -> List[List[int]]:\\n        nums.sort()\\n        l=[]\\n        for i in range(len(nums)):\\n            if i>0 and nums[i-1]==nums[i]:\\n                continue\\n            j=i+1\\n            k=len(nums)-1\\n            while j<k:\\n                s=nums[i]+nums[j]+nums[k]\\n                if s>0:\\n                    k-=1\\n                elif s<0:\\n                    j+=1\\n                else:\\n                    l.append([nums[i],nums[j],nums[k]])\\n                    j+=1\\n                    while nums[j-1]==nums[j] and j<k:\\n                        j+=1\\n        return l\\n\"\n",
    "        }\n",
    "    ]\n",
    "\n",
    "\n",
    "      # this is where fine-tuning happens\n",
    "      # num_epochs is the number of times you fine-tune the model\n",
    "      # more epochs tends to get better results, but you also run the risk of \"overfitting\"\n",
    "      # play around with this number to find what works best for you\n",
    "      num_epochs = 3\n",
    "      count = 0\n",
    "      while count < num_epochs:\n",
    "          print(f\"Fine-tuning the model, iteration {count + 1}\")\n",
    "          new_model_adapter.fine_tune(samples=samples)\n",
    "          count = count + 1\n",
    "\n",
    "      # after fine-tuning\n",
    "      completion = new_model_adapter.complete(query=sample_query, max_generated_token_count=511).generated_output\n",
    "      print(f\"Generated (after fine-tune): {completion}\")\n",
    "\n",
    "      new_model_adapter.delete()\n",
    "\n",
    "if __name__ == \"__main__\":\n",
    "    main()"
   ]
  },
  {
   "cell_type": "markdown",
   "metadata": {},
   "source": [
    "After a few prompt tests (having had responses that contained no code, or abbreviated code, I finally got a complete solution), I finally get a result. Unfortunately, the solution doesn't work.\n",
    "With this first test, I realized that there were several difficulties in my project. The first is data recovery and formatting! Each LLM must receive data with a certain formatting to be fine tuned. What's more, as my answers are code and not sentences, the code itself has to be formatted so that the indentations are correct. This doesn't make the task any easier :o"
   ]
  }
 ],
 "metadata": {
  "kernelspec": {
   "display_name": "Python 3.8.10 64-bit",
   "language": "python",
   "name": "python3"
  },
  "language_info": {
   "codemirror_mode": {
    "name": "ipython",
    "version": 3
   },
   "file_extension": ".py",
   "mimetype": "text/x-python",
   "name": "python",
   "nbconvert_exporter": "python",
   "pygments_lexer": "ipython3",
   "version": "3.8.10"
  },
  "orig_nbformat": 4,
  "vscode": {
   "interpreter": {
    "hash": "916dbcbb3f70747c44a77c7bcd40155683ae19c65e1c03b4aa3499c5328201f1"
   }
  }
 },
 "nbformat": 4,
 "nbformat_minor": 2
}
