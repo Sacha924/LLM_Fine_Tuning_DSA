{
 "cells": [
  {
   "cell_type": "code",
   "execution_count": null,
   "metadata": {},
   "outputs": [],
   "source": [
    "%pip install openai"
   ]
  },
  {
   "cell_type": "code",
   "execution_count": 3,
   "metadata": {},
   "outputs": [],
   "source": [
    "from openai import OpenAI"
   ]
  },
  {
   "cell_type": "code",
   "execution_count": 4,
   "metadata": {},
   "outputs": [],
   "source": [
    "client = OpenAI(api_key=\"YOUR_API_KEY\")\n",
    "\n",
    "client.files.create(\n",
    "  file=open(\"../Data/data.jsonl\", \"rb\"),\n",
    "  purpose=\"fine-tune\"\n",
    ")"
   ]
  },
  {
   "cell_type": "code",
   "execution_count": 6,
   "metadata": {},
   "outputs": [
    {
     "data": {
      "text/plain": [
       "FineTuningJob(id='ftjob-9mPPvxfKmVvXszsdex1hot77', created_at=1704132524, error=None, fine_tuned_model=None, finished_at=None, hyperparameters=Hyperparameters(n_epochs='auto', batch_size='auto', learning_rate_multiplier='auto'), model='davinci-002', object='fine_tuning.job', organization_id='org-qqMqaYW040gIm6DL0bVvYW4r', result_files=[], status='validating_files', trained_tokens=None, training_file='file-mPXAFo0EOmA4puldHtfZPBfV', validation_file=None)"
      ]
     },
     "execution_count": 6,
     "metadata": {},
     "output_type": "execute_result"
    }
   ],
   "source": [
    "\n",
    "client.fine_tuning.jobs.create(\n",
    "  training_file=\"file-mPXAFo0EOmA4puldHtfZPBfV\", \n",
    "  model=\"davinci-002\",\n",
    "  suffix=\"Sacha-DSA-v1\"\n",
    ")"
   ]
  },
  {
   "cell_type": "code",
   "execution_count": 6,
   "metadata": {},
   "outputs": [
    {
     "data": {
      "text/plain": [
       "SyncCursorPage[FineTuningJob](data=[FineTuningJob(id='ftjob-hYskhLeb8vbG3C4SFdXCkvgB', created_at=1704195916, error=None, fine_tuned_model='ft:gpt-3.5-turbo-1106:personal:sacha-dsa-gpt-v1:8cXki7Ls', finished_at=1704196900, hyperparameters=Hyperparameters(n_epochs=3, batch_size=1, learning_rate_multiplier=2), model='gpt-3.5-turbo-1106', object='fine_tuning.job', organization_id='org-qqMqaYW040gIm6DL0bVvYW4r', result_files=['file-qCBPc7xdPxOp4t0JuK5smGTQ'], status='succeeded', trained_tokens=316848, training_file='file-f90lFgDaigGD0RdTTjJqmnyw', validation_file=None), FineTuningJob(id='ftjob-9mPPvxfKmVvXszsdex1hot77', created_at=1704132524, error=None, fine_tuned_model='ft:davinci-002:personal:sacha-dsa-v1:8cH2wbef', finished_at=1704132681, hyperparameters=Hyperparameters(n_epochs=3, batch_size=1, learning_rate_multiplier=2), model='davinci-002', object='fine_tuning.job', organization_id='org-qqMqaYW040gIm6DL0bVvYW4r', result_files=['file-7NVMDq52aCfDgJW0MT0isG1Z'], status='succeeded', trained_tokens=119127, training_file='file-mPXAFo0EOmA4puldHtfZPBfV', validation_file=None)], object='list', has_more=False)"
      ]
     },
     "execution_count": 6,
     "metadata": {},
     "output_type": "execute_result"
    }
   ],
   "source": [
    "client.fine_tuning.jobs.list(limit=10)"
   ]
  },
  {
   "cell_type": "code",
   "execution_count": 12,
   "metadata": {},
   "outputs": [
    {
     "name": "stdout",
     "output_type": "stream",
     "text": [
      "class Solution:\\n    def completeSubstringCount(self, word: str, k: int) -> int:\\n        \\n        tmp = [] \\n        cnt = 1\\n        for i in range(len(word)): \\n            if word[i,:] == word[:i] + word[i + 1 :],\\n                if word[i+1 :] in tmp or (word[i+1 :] in tmp and cnt!=k+1 and word[i+1 :] != word[i-1+1:i+2:k] and abs(i+1-k) <= 1 and abs(i+2-k+1) <= 2) ): \\n                    cnt += 1 \\n                    if not word[i+1 :] in tmp: tmp.append(word[i+1 :]) \\n                    else : cnt -= 1 \\n            else :cnt = 1   # para reset\\n            if cnt < 1 :\\n                break \\n        return len(tmp)\\n        #~~~\\n        # return \"duplicated3-strings\".count(\"greed\")\\n        \\n    print(Solution().completeSubstringCount(\"igigee\", 2))\\n\n",
      "\n",
      "# Dynamic Programming\n",
      "class Solution:\\n    def completeSubstringCount(self, word: str, k: int) -> int:\\n        \\n        N = len(word)\\n        res = \\n        dp = [[False for _ in range(26+1)] for _ in range(26+1)]\\n        for c in range(27):\\n            for diff in range(2): \\n                \\n                c1 = ord(c)\\n                c2 = c1 + diff\\n                diff = abs(c1 - c2)\\n                \\n                \\n                if diff > 26:    \\n                    diff = 26\\n                elif diff < 0 : \\n                    diff = 0   \\n                \\n                if diff == 0: \\n                    dp[c][diff] = True \\n                    for n, diffn in enumerate(list(dp[c][diff]+[True])):\n",
      "[...]\n",
      " \\n                        dp[ord(c)+diffn][diffn] = True \\n                    res += dp[c][diff]\\n                    continue \\n        \\n        return res\\ndp: duplicate numbers of characters stringthetabbox.github.com\\nclass Specialcase:\\n    def fn(self, word, k):\\n        uv = word ^ word[::-1]\\n        uf = u\"\\n\".join(word)\\n        return max(special.fn(x+k, uf, k) for x, y in special.xtabmp.items() if y > 0 and uv.startswith(u\"{\" + ''.join(y) + u\"}\\n\"))-1 for ...   in special.xtabmp }\\nexclusive -1st character matching numbers mix      \\npadlinex         \\nexclusive - kth lexicographically       \\nanalysize\n",
      "\n",
      "# dp+suffix array\n",
      "import collections\n",
      "class Solution:\\n    def completeSubstringCount(self, s: str, k: int) -> int:\\n        dict = collections.defaultdict(list)\\n        for _ in range(s.count(\"\\n\").int()): dict[ord(\"\\n\")][ord(\"\\n\")+128].append(s)\\n        \\n        from sok.kmp import KMP\\n        suffixarray \\n        \\n        def lookup(n, k):\\n            i,_=KMP.find(pat=k, t=pe+\"**\")\\n            k+=1<<i                       \\n\\n        ans=[]\\n         \\n        push=[]\\n        sol=dict[1]\\n        \\n        for i,_ in KMP.find(pat=k): push.append((i,i))\\n         middle=start=len(s)-2\\n         last=start+len(pat)-1\\n         for k_8bits,_ in KMP.neighbors(pat=1<<start,i): \\n            raise $idx:\\n                for i,_ in KMP.find(pat=k_8bits, t=s[i:i+k-1]): push.append((i,i+k-1+i))\\n                \\n                for i,_ in KMP.find(pat=k_8bits+k, t=s[last-last:i+1-k-1]]): push.append((i_last-i+1,k-last+1)])\\n                vals,idx1=\\textcolor{red}{1<<(start):i},idx + middle - start\\n                vals1,idx2=\\textcolor{red}{start}:i},idx + last - start\\n                \\n                mem=dict[lookup(middle,)    ]    \\n                \\n                for x,kx in push:@nostdlib\\n                    for y,_ in KMP.find(pat=kx,t=s[x:x+k-1]]): vals1,img=y\\n                    for z,_ in KMP.find(pat=kx,k+z): vals1+=lookup(n=mem,map=int,'%d'%z,val=img))\\n                    for _ in range(len(vals-1)+1): vd=vals[k] in vals-1: vals[zn]=val\\n                    \\n                    ans.append(vals3[mem[-1-l]])\\n                    if fn(lookup(n=mem,map=1<<(start)))-1<len(ans): ans[-1-l]=z\\n                    mem=dict[lookup(middle+1,*)]\"\"\"\"\\n                    stack.clear()\\n                    while 1:\\n                        stir=start+1\\n                        len1,sp,fn=0,nthlen-1,-1\\n                        while stir<len:  @nostdlib\\n                            if stir == len1: stir=len1 interim=len1-held1\\n                            elif stir < len1: sp,fn=sp+1,k*2 -1\\n                            stack.append((stir,start,1<<sp,0,0))\\n                            if fn<held1:    return stack[1:]\\n                            left=len2, sp-=1\\n                            if sp < 0: sp=len2\\n                            while sc==left:  sc=min(sc,left-1) left -=alifeflows\\n                            while sc==left + 1: sc=min(sc,same-1) left +=alifelicgoes-1\\n                            stack.right_pop(1)\\n                            if len2: sp+=1\\n                            stack. append((stir,left,start2+1<<sp,1,1<<left))\\n                            right=same,alifelift(res)\\nappealright \\n                            stir +=1<<sp        \\n                            if fn<held1:    return stack[1:]\\n                        stir=len\\n                        left2 = start-same     \\n                        same2  = len-same-res\\n                        --stir1\\n                        while sc==same2: stress=0\\n                            if stre != 0:\\n                                if stress:    stack.right_pop(1)\\n                                before = stack[right].left -abefore \\n                                stack. left = before +1\\n                                stack[right].left = before - 1\\ndataleft stack[right].right = before\\n                               \n"
     ]
    }
   ],
   "source": [
    "import requests\n",
    "import json\n",
    "\n",
    "prompt = \"Write an optimized Python function to solve the following problem: You are given a string word and an integer k. A substring s of word is complete if: Each character in s occurs exactly k times. The difference between two adjacent characters is at most 2. That is, for any two adjacent characters c1 and c2 in s, the absolute difference in their positions in the alphabet is at most 2. Return the number of complete substrings of word. A substring is a non-empty contiguous sequence of characters in a string. Example 1: Input: word = 'igigee', k = 2 Output: 3 Explanation: The complete substrings where each character appears exactly twice and the difference between adjacent characters is at most 2 are: 'igigee', 'igigee', 'igigee'. Example 2: Input: word = 'aaabbbccc', k = 3 Output: 6 Explanation: The complete substrings where each character appears exactly three times and the difference between adjacent characters is at most 2 are: 'aaabbbccc', 'aaabbbccc', 'aaabbbccc', 'aaabbbccc', 'aaabbbccc', 'aaabbbccc'. Constraints: 1 <= word.length <= 105 word consists only of lowercase English letters. 1 <= k <= word.length\"\n",
    "\n",
    "\n",
    "api_url = \"https://api.openai.com/v1/completions\"\n",
    "headers = {\n",
    "    \"Content-Type\": \"application/json\",\n",
    "    \"Authorization\": f\"Bearer YOUR_API_KEY\"\n",
    "}\n",
    "\n",
    "data = {\n",
    "    \"model\": \"ft:gpt-3.5-turbo-1106:personal:sacha-dsa-gpt-v1:8cXki7L\",\n",
    "    \"prompt\": prompt,\n",
    "    \"max_tokens\": 1000 \n",
    "}\n",
    "\n",
    "response = requests.post(api_url, headers=headers, json=data)\n",
    "if response.status_code == 200:\n",
    "    generated_text = response.json()[\"choices\"][0][\"text\"]\n",
    "    print(generated_text)\n",
    "else:\n",
    "    print(\"Error:\", response.status_code, response.text)"
   ]
  },
  {
   "cell_type": "code",
   "execution_count": 14,
   "metadata": {},
   "outputs": [
    {
     "name": "stdout",
     "output_type": "stream",
     "text": [
      "class Solution:\\n    def findPeaks(self, mountain: List[int]) -> List[int]:\\n        nonterminal = []\\n        for ele in mountain:\\n            nonterminal.append(ele)\\n            for x in nonterminal:\\n                if not x <= ele:\\n                    break\\n            else:\\n                nonterminal.remove(ele)\\n        return np.argwhere(mountain)\\n        # or:\\n        # return [i for i, el in enumerate(mountain) if el > nonterminal[0]]\\n        # return [i for i, el in enumerate(mountain) if el > nonterminal[-1]]\\n        \"\"\"\\n\\nGour-Sayan Acharya\\nLove to read books and share programming knowledge\\nBlog: GourSayan.com\\nGitHub: https://github.com/GourSayanACHARYA\\n\\n\\n\\n\\t\\t\\t\\t\\t\\t\\t\\t\\t\\t\\t\\t\\t\\n\\t\\t\\t\\t\\t\\t\\t\\t\\t\\t\\t\\t\\n\\t\\t\\t\\t\\t\\t\\t\\n\\n\",\"lang\":\"python\"},{\"id\":2,\"question\":\"This corona fight isn't easy right?\\n\\n\",\"author_name\":\"Banlabas Sarkar\",\"completion_percentage\":0,\"date_sent\":\"2021-03-13T20:10:49.185Z\",\"kc_question_id\":1,\"kc_user_id\":1631,\"kc_user_avatar\":\"https:\\/\\/s3.amazonaws.com/kaniini-portal-user-images\\/kaniini-user-63f2f4c05d9aece6b9eb6af3eb9d5f00-plaintext-shot.png\",\"kc_user_bio\":\"This corona fight isn't easy right?\\n\\n\",\"choices\":[{\"id\":0,\"name\":\"But we can do this- You and Me Ufff my arms hurt!\",\"responsibility\":0,\"achievement\":0,\"level\":0,\"random\":0,\"increased_effort\":true,\"choices_for_success\":false,\"achievement_percentage\":\"0:37\",\"show_remaining_time\":false,\"completed_token_card_end_time\":\"2021-03-14T07:24:08Z\"},{\"id\":1,\"name\":\"Sharing to make someone else smile\",\"responsibility\":0.1,\"achievement\":0.3,\"level\":0.4,\"random\":0.5,\"increased_effort\":true,\"choices_for_success\":false,\"achievement_percentage\":\"0:37\",\"show_remaining_time\":false,\"completed_token_card_end_time\":\"2021-03-15T16:59:06Z\"},{\"id\":2,\"name\":\"All done now time to do next mission #supportmedicalstaff #workership#odisha-covid-care-centre\",\"responsibility\":0.3,\"achievement\":0.1,\"level\":0.4,\"random\":0.5,\"increased_effort\":false,\"choices_for_success\":false,\"achievement_percentage\":\"0:37\",\"show_remaining_time\":false,\"completed_token_card_end_time\":\"2021-03-15T16:59:17Z\"},{\"id\":3,\"name\":\"Help spread these words\",\"responsibility\":0.3,\"achievement\":0.25,\"level\":0.58,\"random\":0.4,\"increased_effort\":false,\"choices_for_success\":false,\"achievement_percentage\":\"0:37\",\"show_remaining_time\":false,\"completed_token_card_end_time\":\"2021-03-15T16:59:28Z\"},{\"id\":4,\"name\":\"Actually like this corona fight\",\"responsibility\":0.3,\"achievement\":0,\"level\":0.3,\"random\":0.7,\"increased_effort\":false,\"choices_for_success\":false,\"achievement_percentage\":\"0:37\",\"show_remaining_time\":false,\"completed_token_card_end_time\":\"2021-03-15T17:08:05Z\"},{\"id\":5,\"name\":\"Just watching these all in scroll\",\"responsibility\":0,\"achievement\":0,\"level\":0,\"random\":0.9,\"increased_effort\":false,\"choices_for_success\":false,\"achievement_percentage\":\"0:37\",\"show_remaining_time\":false,\"completed_token_card_end_time\":\"2021-03-15T17:08:19Z\"},{\"id\":6,\"name\":\"#Stay_Healthy#Love Yourself For Making Good Choices Let Go Of Old Patterns #vote\",\"responsibility\":0.07,\"achievement\":0.07,\"level\":0.14,\"random\":0.85,\"increased_effort\":false,\"choices_for_success\":false,\"achievement_percentage\":\"0:37\",\"show_remaining_time\":false,\"completed_token_card_end_time\":\"2021-03-15T17:11:26Z\"},{\"id\":7,\"name\":\"Bored?\",\"responsibility\":0.07,\"achievement\":0.07,\"level\":0.14,\"random\":0.85,\"\n"
     ]
    }
   ],
   "source": [
    "import requests\n",
    "import json\n",
    "\n",
    "# Test with an easy exercise\n",
    "prompt = \"Write an optimized Python function to solve the following problem: You are given a 0-indexed array mountain. Your task is to find all the peaks in the mountain array. Return an array that consists of indices of peaks in the given array in any order. Notes: A peak is defined as an element that is strictly greater than its neighboring elements. The first and last elements of the array are not a peak. Example 1: Input: mountain = [2,4,4] Output: [] Explanation: mountain[0] and mountain[2] can not be a peak because they are first and last elements of the array. mountain[1] also can not be a peak because it is not strictly greater than mountain[2]. So the answer is []. Example 2: Input: mountain = [1,4,3,8,5] Output: [1,3] Explanation: mountain[0] and mountain[4] can not be a peak because they are first and last elements of the array. mountain[2] also can not be a peak because it is not strictly greater than mountain[3] and mountain[1]. But mountain [1] and mountain[3] are strictly greater than their neighboring elements. So the answer is [1,3].\"\n",
    "\n",
    "\n",
    "api_url = \"https://api.openai.com/v1/completions\"\n",
    "headers = {\n",
    "    \"Content-Type\": \"application/json\",\n",
    "    \"Authorization\": f\"Bearer YOUR_API_KEY\"\n",
    "}\n",
    "\n",
    "data = {\n",
    "    \"model\": \"ft:davinci-002:personal:sacha-dsa-v1:8cH2wbef\",\n",
    "    \"prompt\": prompt,\n",
    "    \"max_tokens\": 1000 \n",
    "}\n",
    "\n",
    "response = requests.post(api_url, headers=headers, json=data)\n",
    "if response.status_code == 200:\n",
    "    generated_text = response.json()[\"choices\"][0][\"text\"]\n",
    "    print(generated_text)\n",
    "else:\n",
    "    print(\"Error:\", response.status_code, response.text)"
   ]
  }
 ],
 "metadata": {
  "kernelspec": {
   "display_name": "Python 3.8.10 64-bit",
   "language": "python",
   "name": "python3"
  },
  "language_info": {
   "codemirror_mode": {
    "name": "ipython",
    "version": 3
   },
   "file_extension": ".py",
   "mimetype": "text/x-python",
   "name": "python",
   "nbconvert_exporter": "python",
   "pygments_lexer": "ipython3",
   "version": "3.8.10"
  },
  "orig_nbformat": 4,
  "vscode": {
   "interpreter": {
    "hash": "916dbcbb3f70747c44a77c7bcd40155683ae19c65e1c03b4aa3499c5328201f1"
   }
  }
 },
 "nbformat": 4,
 "nbformat_minor": 2
}
