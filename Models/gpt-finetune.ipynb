{
 "cells": [
  {
   "cell_type": "code",
   "execution_count": null,
   "metadata": {},
   "outputs": [],
   "source": [
    "%pip install openai"
   ]
  },
  {
   "cell_type": "code",
   "execution_count": 1,
   "metadata": {},
   "outputs": [],
   "source": [
    "from openai import OpenAI"
   ]
  },
  {
   "cell_type": "code",
   "execution_count": 2,
   "metadata": {},
   "outputs": [
    {
     "data": {
      "text/plain": [
       "FileObject(id='file-f90lFgDaigGD0RdTTjJqmnyw', bytes=385134, created_at=1704195903, filename='dataGPT.jsonl', object='file', purpose='fine-tune', status='processed', status_details=None)"
      ]
     },
     "execution_count": 2,
     "metadata": {},
     "output_type": "execute_result"
    }
   ],
   "source": [
    "client = OpenAI(api_key=\"YOUR_API_KEY\")\n",
    "\n",
    "client.files.create(\n",
    "  file=open(\"../Data/dataGPT.jsonl\", \"rb\"),\n",
    "  purpose=\"fine-tune\"\n",
    ")"
   ]
  },
  {
   "cell_type": "code",
   "execution_count": 3,
   "metadata": {},
   "outputs": [
    {
     "data": {
      "text/plain": [
       "FineTuningJob(id='ftjob-hYskhLeb8vbG3C4SFdXCkvgB', created_at=1704195916, error=None, fine_tuned_model=None, finished_at=None, hyperparameters=Hyperparameters(n_epochs='auto', batch_size='auto', learning_rate_multiplier='auto'), model='gpt-3.5-turbo-1106', object='fine_tuning.job', organization_id='org-qqMqaYW040gIm6DL0bVvYW4r', result_files=[], status='validating_files', trained_tokens=None, training_file='file-f90lFgDaigGD0RdTTjJqmnyw', validation_file=None)"
      ]
     },
     "execution_count": 3,
     "metadata": {},
     "output_type": "execute_result"
    }
   ],
   "source": [
    "\n",
    "client.fine_tuning.jobs.create(\n",
    "  training_file=\"file-f90lFgDaigGD0RdTTjJqmnyw\", \n",
    "  model=\"gpt-3.5-turbo-1106\",\n",
    "  suffix=\"Sacha-DSA-GPT-v1\"\n",
    ")"
   ]
  },
  {
   "cell_type": "code",
   "execution_count": 8,
   "metadata": {},
   "outputs": [
    {
     "data": {
      "text/plain": [
       "SyncCursorPage[FineTuningJob](data=[FineTuningJob(id='ftjob-hYskhLeb8vbG3C4SFdXCkvgB', created_at=1704195916, error=None, fine_tuned_model=None, finished_at=None, hyperparameters=Hyperparameters(n_epochs=3, batch_size=1, learning_rate_multiplier=2), model='gpt-3.5-turbo-1106', object='fine_tuning.job', organization_id='org-qqMqaYW040gIm6DL0bVvYW4r', result_files=[], status='running', trained_tokens=None, training_file='file-f90lFgDaigGD0RdTTjJqmnyw', validation_file=None), FineTuningJob(id='ftjob-9mPPvxfKmVvXszsdex1hot77', created_at=1704132524, error=None, fine_tuned_model='ft:davinci-002:personal:sacha-dsa-v1:8cH2wbef', finished_at=1704132681, hyperparameters=Hyperparameters(n_epochs=3, batch_size=1, learning_rate_multiplier=2), model='davinci-002', object='fine_tuning.job', organization_id='org-qqMqaYW040gIm6DL0bVvYW4r', result_files=['file-7NVMDq52aCfDgJW0MT0isG1Z'], status='succeeded', trained_tokens=119127, training_file='file-mPXAFo0EOmA4puldHtfZPBfV', validation_file=None)], object='list', has_more=False)"
      ]
     },
     "execution_count": 8,
     "metadata": {},
     "output_type": "execute_result"
    }
   ],
   "source": [
    "client.fine_tuning.jobs.list(limit=10)"
   ]
  },
  {
   "cell_type": "code",
   "execution_count": 13,
   "metadata": {},
   "outputs": [
    {
     "name": "stdout",
     "output_type": "stream",
     "text": [
      "<Response [200]>\n",
      "class LongestSpecialSubstring: # @param s, string# @return int: length of longest special substring occurring at least thrice\\_\\_ ALGORITHM \\_\\_def longestSubString(self, s: str) -> int:\\\\_suffix\\'s all special subsequences-> `tps``\\_\\_class SubstringClass  \\_\\_## Each subclass is a special string classfrom which \\_\\_str\\_\\_() produces a slist instance (subclass).suffix\\'s all subsequences #all solution algorithms begin\\_\\_class Character(\\_\\_class \\_\\_):\\_\\_\\_\\_pass\\_\\_class3834_Substring bardzo silnie narzucaneemita: jedno lengencod znaczy najbardziej krotkie a128kB SubString' charClass(len()) class SubStr(): def __init__(self): self.index = 0 self.string = \"\" self.lstr = [] def subss(self,i,len): for each in range(i, i+len): y = self.ltter[str(each)] if y == self.string: blahio.write(each, y)'oo' elif le(y,0x7f): if s == '': s = each elif y > 0x7f: if s[-1].upper() in s.lower(): s = s + each + ''.zfill(abs(each)) else: s = each+ ''.zfill(abs(each)) elif i<len and self.ltter[str(i))] == self.string[str(i + 1)]: if i==0: i += length - (str(i)][str(i + 1)]) return self if len(self.string) == 1: t = self.lstr[i:len(self)] return SubStr() elif len(self.string) > 1: t = self.lstr[i:len(self.string)] return SubStr() def lenx(self): return len(self.string) # return pair strings and their length.cx Our definitions, plus methods for substrings, are described below:# functions, imports and ConCreator initiate parsing of the ProposedSolution:class Substr: def __init__(self, s): self._s = s self.len = len(s) def _get(self): return self._s.split( ([# became part ofci(GetBounds for POSIXly correct regex of Python 3.6.]+(?![# The result when parsing and reading the first sc*1; 2; 3) return self.str: self.len return 1 # On the ot100%25]println(all POSSIBLERules are linked with Little O NumberOfCharacterClass_ConCreator(l, m, len)s) def len_n(self): r = c = 0while c len: return c, c+cdef rr (s, l): \"\"\" x_list % ilist\"\"\" if l:ind, *(xs, ih) = (find(x_list, x),find(ilist,y) for y, addr, len in \\[l[1:], addr( x_list[ind:]), len( x_list[ind:])) for y, x in \\[1+ssn,1+ih '\\b', ord(y)], x, xs, Find('getAgainst order difference:BEGIN[' \\]+s+\\\\b|\\\\b\\\\n' _|\\t'] = x x^1[2],n[89],n and _ ^(l[1:],[^v]|v'+l+_c\n"
     ]
    }
   ],
   "source": [
    "import json\n",
    "import requests\n",
    "\n",
    "prompt = \"Write an optimized Python function to solve the following problem: You are given a string s that consists of lowercase English letters. A string is called special if it is made up of only a single character. For example, the string \\\"abc\\\" is not special, whereas the strings \\\"ddd\\\", \\\"zz\\\", and \\\"f\\\" are special. Return the length of the longest special substring of s which occurs at least thrice, or -1 if no special substring occurs at least thrice. A substring is a contiguous non-empty sequence of characters within a string. Example 1: Input: s = \\\"aaaa\\\" Output: 2 Explanation: The longest special substring which occurs thrice is \\\"aa\\\": substrings \\\"aaaa\\\", \\\"aaaa\\\", and \\\"aaaa\\\". It can be shown that the maximum length achievable is 2. Example 2: Input: s = \\\"abcdef\\\" Output: -1 Explanation: There exists no special substring which occurs at least thrice. Hence return -1. Example 3: Input: s = \\\"abcaba\\\" Output: 1 Explanation: The longest special substring which occurs thrice is \\\"a\\\": substrings \\\"abcaba\\\", \\\"abcaba\\\", and \\\"abcaba\\\". It can be shown that the maximum length achievable is 1. Constraints: 3 <= s.length <= 50 s consists of only lowercase English letters.\"\n",
    "\n",
    "\n",
    "api_url = \"https://api.openai.com/v1/completions\"\n",
    "headers = {\n",
    "    \"Content-Type\": \"application/json\",\n",
    "    \"Authorization\": f\"Bearer YOUR_API_KEY\"\n",
    "}\n",
    "\n",
    "data = {\n",
    "    \"model\": \"ft:davinci-002:personal:sacha-dsa-v1:8cH2wbef\",\n",
    "    \"prompt\": prompt,\n",
    "    \"max_tokens\": 700 \n",
    "}\n",
    "\n",
    "response = requests.post(api_url, headers=headers, json=data)\n",
    "if response.status_code == 200:\n",
    "    print(response)\n",
    "    generated_text = response.json()[\"choices\"][0][\"text\"]\n",
    "    print(generated_text)\n",
    "else:\n",
    "    print(\"Error:\", response.status_code, response.text)"
   ]
  },
  {
   "cell_type": "markdown",
   "metadata": {},
   "source": [
    "Test of gpt3.5 turbo without finetuning to see the difference"
   ]
  },
  {
   "cell_type": "code",
   "execution_count": 18,
   "metadata": {},
   "outputs": [
    {
     "name": "stdout",
     "output_type": "stream",
     "text": [
      "{'id': 'chatcmpl-8cYWwOB7ni9KK9Db0qU6mmAWN1JEY', 'object': 'chat.completion', 'created': 1704199890, 'model': 'gpt-3.5-turbo-1106', 'choices': [{'index': 0, 'message': {'role': 'assistant', 'content': '```python\\ndef longestSpecialSubstring(s):\\n    max_length = -1\\n    for i in range(len(s)):\\n        for j in range(i + 2, len(s)):\\n            if s[i:j+1] == s[i] * (j - i + 1):\\n                count = s.count(s[i:j+1])\\n                if count >= 3:\\n                    max_length = max(max_length, j - i + 1)\\n    return max_length\\n```\\n\\nThis function iterates through all possible substrings of the input string `s`. For each substring, it checks if it consists of only a single character. If it does, it counts the occurrence of this substring in the original string and updates the maximum length if it occurs at least thrice. Finally, it returns the maximum length found, or -1 if no special substring occurs at least thrice.'}, 'logprobs': None, 'finish_reason': 'stop'}], 'usage': {'prompt_tokens': 283, 'completion_tokens': 179, 'total_tokens': 462}, 'system_fingerprint': 'fp_772e8125bb'}\n"
     ]
    },
    {
     "ename": "KeyError",
     "evalue": "'text'",
     "output_type": "error",
     "traceback": [
      "\u001b[0;31m---------------------------------------------------------------------------\u001b[0m",
      "\u001b[0;31mKeyError\u001b[0m                                  Traceback (most recent call last)",
      "Cell \u001b[0;32mIn[18], line 22\u001b[0m\n\u001b[1;32m     20\u001b[0m \u001b[38;5;28;01mif\u001b[39;00m response\u001b[38;5;241m.\u001b[39mstatus_code \u001b[38;5;241m==\u001b[39m \u001b[38;5;241m200\u001b[39m:\n\u001b[1;32m     21\u001b[0m     \u001b[38;5;28mprint\u001b[39m(response\u001b[38;5;241m.\u001b[39mjson())  \u001b[38;5;66;03m# Print the full response\u001b[39;00m\n\u001b[0;32m---> 22\u001b[0m     generated_text \u001b[38;5;241m=\u001b[39m \u001b[43mresponse\u001b[49m\u001b[38;5;241;43m.\u001b[39;49m\u001b[43mjson\u001b[49m\u001b[43m(\u001b[49m\u001b[43m)\u001b[49m\u001b[43m[\u001b[49m\u001b[38;5;124;43m\"\u001b[39;49m\u001b[38;5;124;43mchoices\u001b[39;49m\u001b[38;5;124;43m\"\u001b[39;49m\u001b[43m]\u001b[49m\u001b[43m[\u001b[49m\u001b[38;5;241;43m0\u001b[39;49m\u001b[43m]\u001b[49m\u001b[43m[\u001b[49m\u001b[38;5;124;43m\"\u001b[39;49m\u001b[38;5;124;43mtext\u001b[39;49m\u001b[38;5;124;43m\"\u001b[39;49m\u001b[43m]\u001b[49m\n\u001b[1;32m     23\u001b[0m     \u001b[38;5;28mprint\u001b[39m(generated_text)\n\u001b[1;32m     24\u001b[0m \u001b[38;5;28;01melse\u001b[39;00m:\n",
      "\u001b[0;31mKeyError\u001b[0m: 'text'"
     ]
    }
   ],
   "source": [
    "import json\n",
    "import requests\n",
    "\n",
    "prompt = \"Write an optimized Python function to solve the following problem: You are given a string s that consists of lowercase English letters. A string is called special if it is made up of only a single character. For example, the string \\\"abc\\\" is not special, whereas the strings \\\"ddd\\\", \\\"zz\\\", and \\\"f\\\" are special. Return the length of the longest special substring of s which occurs at least thrice, or -1 if no special substring occurs at least thrice. A substring is a contiguous non-empty sequence of characters within a string. Example 1: Input: s = \\\"aaaa\\\" Output: 2 Explanation: The longest special substring which occurs thrice is \\\"aa\\\": substrings \\\"aaaa\\\", \\\"aaaa\\\", and \\\"aaaa\\\". It can be shown that the maximum length achievable is 2. Example 2: Input: s = \\\"abcdef\\\" Output: -1 Explanation: There exists no special substring which occurs at least thrice. Hence return -1. Example 3: Input: s = \\\"abcaba\\\" Output: 1 Explanation: The longest special substring which occurs thrice is \\\"a\\\": substrings \\\"abcaba\\\", \\\"abcaba\\\", and \\\"abcaba\\\". It can be shown that the maximum length achievable is 1. Constraints: 3 <= s.length <= 50 s consists of only lowercase English letters.\"\n",
    "\n",
    "\n",
    "api_url = \"https://api.openai.com/v1/chat/completions\"\n",
    "headers = {\n",
    "    \"Content-Type\": \"application/json\",\n",
    "    \"Authorization\": f\"Bearer YOUR_API_KEY\"\n",
    "}\n",
    "\n",
    "data = {\n",
    "    \"model\": \"gpt-3.5-turbo-1106\",\n",
    "    \"messages\": [{\"role\": \"user\", \"content\": prompt}],\n",
    "    \"max_tokens\": 700 \n",
    "}\n",
    "\n",
    "response = requests.post(api_url, headers=headers, json=data)\n",
    "if response.status_code == 200:\n",
    "    print(response.json())  # Print the full response\n",
    "    generated_text = response.json()[\"choices\"][0][\"text\"]\n",
    "    print(generated_text)\n",
    "else:\n",
    "    print(\"Error:\", response.status_code, response.text)"
   ]
  }
 ],
 "metadata": {
  "kernelspec": {
   "display_name": "Python 3.8.10 64-bit",
   "language": "python",
   "name": "python3"
  },
  "language_info": {
   "codemirror_mode": {
    "name": "ipython",
    "version": 3
   },
   "file_extension": ".py",
   "mimetype": "text/x-python",
   "name": "python",
   "nbconvert_exporter": "python",
   "pygments_lexer": "ipython3",
   "version": "3.8.10"
  },
  "orig_nbformat": 4,
  "vscode": {
   "interpreter": {
    "hash": "916dbcbb3f70747c44a77c7bcd40155683ae19c65e1c03b4aa3499c5328201f1"
   }
  }
 },
 "nbformat": 4,
 "nbformat_minor": 2
}
